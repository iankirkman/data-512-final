{
 "cells": [
  {
   "cell_type": "markdown",
   "metadata": {},
   "source": [
    "# HCDS 512 Final Project\n",
    "## Influential Characteristics of Opinion: A Basic Income Study\n",
    "Released by: Ian Kirkman ikirkman@uw.edu 12/13/2017\n",
    "    \n",
    "## Introduction\n",
    "\n",
    "We are in period of rapidly changing economies, and basic income is likely to become a necessity within our lifetimes. (Some would argue that it already is). Tracking public opinion on the matter is not limited to the interest of government or politic, but to any constituent that is aware of what automation and globalization mean for our future. Shaping public opinion of basic income will be a key component of making that transition as smooth as politically possible, while continuing to measure and predict that opinion will inform when success of implementation is feasible.\n",
    "\n",
    "## Background and Related Work\n",
    "\n",
    "My background on basic income has been merely a casual curiosity. I've come accross supportive blog posts from authors like Elon Musk, who are outspokenly in favor of basic income as the potential for automation to display workers is realized. I looked for actual experience data as well, but only found anectodal information about temporary test programs in basic income (where effects may not have been realized due to awareness of participants that the income was temporary), or need-based and restricted programs like the United States has.\n",
    "\n",
    "I also found an out-of-date Wikipedia article disussing four class groups of European Social Welfare. I linked the article in the references, but I did not want to use the information because it was from 2003 and several places stated that it needed citation. Clicking through the sources did not turn up anywhere with those classifications. Despite not being able to find a credible source, I wondered if my K-means country classification would have alotted similar groupings. It turns out that it did not, even with some overfitting at k=4.\n",
    "\n",
    "While I am generally sympathetic to socialist ideals, I identify that I may have a bias. I believe this was apparent in the phrasing and choice of hypothesis. However, I feel that I was open to results that countered my beliefs.\n",
    "\n",
    "## Hypotheses\n",
    "\n",
    "We anticipate that we will identify some correlated features to opinion of basic income, including features of the Dalia survey as well as features on from the supplemental country data.\n",
    "\n",
    "From the Dalia survery data, we hypothesize that:\n",
    "- Younger people will view basic income more favorably. We anticipate this because younger people are planning for a longer future, and have earning potential at stake as automation is replacing jobs.\n",
    "- Urban-dwellers will view basic income more favorably. We anticipate this because urban dwelling tends to be more expensive, and workers are more likely involved in service economies than rural workers.\n",
    "- People with children in their household will view basic income more favorably than those without. We anticipate this because people with children are likely to be anticipating the future on the behalf of their children.\n",
    "\n",
    "\n",
    "From the supplemental data, we hypothesize that:\n",
    "- Healthier countries will have a more favorable view overall of basic income. We posit that countries that are healthier have successfully implemented social care programs.\n",
    "- Happier countries will have a more favorable view overall of basic income. We posit that happier countries are likely to have a culture of work/life balance that values life and social contributions beyond work.\n",
    "- Economically burdened countries will have a more negative view overall of basic income. While counterintuitive that economically burdened countries may seek relief, we anticipate that signs of struggle may indicate failed social programs and/or negative views/blaming for failures.\n",
    "\n",
    "\n",
    "## Methods\n",
    "\n",
    "\n",
    "\n",
    "### 1. Data Prerequisites\n",
    "\n",
    "Section 1 covers all the information needed to gather data, import the required libraries, and set user inputs. We start below with libraries and parameters. \n",
    "\n",
    "#### 1.1. Importing Libraries and Setting Parameters\n",
    "\n",
    "This package includes the following libraries for processing and analysis:\n",
    " - `json`: This is used to format, save, and load raw data after it's pulled from the source.\n",
    " - `csv`: This is used to load raw data from csv files, and to write processed data to a csv. \n",
    " - `math`: The function `ceil` is used to group subjects into 5-year age bands.\n",
    " - `matplotlib`: The `matplotlib` library is used to create visual representations of results. \n",
    " - `seaborn`: The `seaborn` extension adds some additional features and options to `matplotlib`. \n",
    " - `numpy`: Numpy arrays allow for fast data slicing and input to `pandas` Data Frames.\n",
    " - `pandas`: This is used to create Data Frames with specified dtypes to send to `seaborn` functions.\n",
    " - `sklearn': Features selection, K-Means Classification, and Data Standardization functions are imported from sci-kit learn for various parts of this analysis.\n",
    " \n",
    "We have also included some plot settings in the opening section, in order to activate them throughout the workbook. The remaining user inputs are also set in this section, and referenced throughout the later processing steps. User inputs include input and output file path specifications. \n",
    "\n",
    "**Notes and Assumptions:**\n",
    "- For all data paths it is assumed that this notebook lives in the project root directory. All paths should be written from the root."
   ]
  },
  {
   "cell_type": "code",
   "execution_count": 1,
   "metadata": {},
   "outputs": [],
   "source": [
    "# Import packages\n",
    "import csv\n",
    "import json\n",
    "import math\n",
    "import seaborn as sns\n",
    "import numpy as np\n",
    "import pandas as pd\n",
    "import matplotlib.pyplot as plt\n",
    "\n",
    "from sklearn.preprocessing import StandardScaler\n",
    "from sklearn.cluster import KMeans\n",
    "import sklearn.feature_selection as fs\n",
    "\n",
    "# Plot Settings\n",
    "%matplotlib inline\n",
    "sns.set()\n",
    "sns.set(style=\"ticks\")\n",
    "\n",
    "############ BEGIN USER INPUTS ###\n",
    "\n",
    "github_username = 'iankirkman'\n",
    "uw_email = 'ikirkman@uw.edu'\n",
    "headers={'User-Agent' : 'https://github.com/%s'%github_username, 'From' : '%s'%uw_email}\n",
    "\n",
    "###### FILE LOCATIONS ######\n",
    "\n",
    "# Raw Data Locations\n",
    "raw_bi_data_path = 'DATA/Dalia/basic_income_dataset_dalia.csv'\n",
    "raw_country_data_path = 'DATA/country_codes_datahub.json'\n",
    "raw_pop_data_path = 'DATA/GHDx/IHME_GBD_2016_POP_ESTIMATES/IHME_GBD_2016_POPULATION_ESTIMATES_2014_2016_Y2017M09D14.CSV'\n",
    "raw_sdi_data_path = 'DATA/GHDx/IHME_GBD_2016_SDI_0/IHME_GBD_2015_SDI_1990_2016_VALUES_Y2017M09D14.csv'\n",
    "raw_health_data_path = 'DATA/GHDx/IHME_RETROSPECTIVE_HEALTH_SPENDING_1995_2014/IHME_RETROSPECTIVE_HEALTH_SPENDING_1995_2014_Y2017M04D19.CSV'\n",
    "raw_happy_data_path = 'DATA/world_happiness_2016.csv'\n",
    "raw_yu_data_path = 'DATA/worldbank_API_ILO_country_YU.csv'\n",
    "\n",
    "# Output File Locations\n",
    "# TODO\n",
    "\n",
    "############ END USER INPUTS ###"
   ]
  },
  {
   "cell_type": "markdown",
   "metadata": {},
   "source": [
    "### 1.2 Raw Data Sources\n",
    "\n",
    "Source and license information is documented below for each of the raw data files linked above. Limitations specific to each data set are noted as well.\n",
    "\n",
    "**Dalia Basic Income Data:**\n",
    "Raw [Basic Income Survey (2016)](/DATA/Dalia/basic_income_dataset_dalia.csv) data and [documentation](/DATA/Dalia/codebook_basicincome.pdf) codebook were accessed from [Kaggle](https://www.kaggle.com/daliaresearch/basic-income-survey-european-dataset), under the publicly available creative commons license [CC BY-NC-SA 4.0](https://creativecommons.org/licenses/by-nc-sa/4.0/).\n",
    "\n",
    "The 2016 Dalia survey data includes basic income opinion responses and demographic (age, gender, education level, full-time employment status, urban/rural residence, and presence of children in household) data for nearly 10K individual respondents in 28 EU countries. Age is limited to only 14-65, and gender is limited to only binary options with self-identification. Most features allow for only a single answer, however there are two opinion questions (for and against basic income) that allow for multiple selections of pre-determined phrases. 'NA' answers are allowed for education level, and 'None of the Above' is allowed on several opinion questions.\n",
    "\n",
    "This study relies heavily on the demographic and survey data provided by Dalia, and almost all features are utilized. The population weight feature appears to have been gargled in the kaggle upload, so that is disregarded in our analysis. In order to create our own weights, we use the GHDx Population Estimates (see below). Since the population estimate file is in 5-year age bands, we will also ignore Dalia's age groupings in favor of creating our own buckets to map to GHDx.\n",
    "\n",
    "\n",
    "**World Bank Youth Unemployment Rate Data:**\n",
    "The [Youth Unemployment Rate](/DATA/worldbank_API_ILO_country_YU.csv) data was accessed form [Kaggle](https://www.kaggle.com/sovannt/world-bank-youth-unemployment) and is released under the World Bank's [Open License](https://data.worldbank.org/summary-terms-of-use). The most current year available on this dataset is 2014. It is also the only dataset in this project that uses 'Slovak Republic' instead of 'Slovakia'. \n",
    "\n",
    "\n",
    "**Sustainable Development Solutions Network World Happiness Report Data:**\n",
    "The [World Happiness Report](/DATA/world_happiness_2016.csv) data was accessed from [Kaggle](https://www.kaggle.com/unsdsn/world-happiness) and is released under [CC0: Public Domain](https://creativecommons.org/publicdomain/zero/1.0/). This dataset includes Happiness Score by country in the year 2016. The score was measured by asking a sample of people to rank their happiness from low to high on a scale of 0 to 10.\n",
    "\n",
    "\n",
    "**Global Health Data Exchange (GHDx) Data:**\n",
    "IHME's [Population Estimate](/DATA/GHDx/IHME_GBD_2016_POP_ESTIMATES/) data, [Socio-Demographic Index](/DATA/GHDx/IHME_GBD_2016_SDI_0/) data, and [Retrospective Health Spending](/DATA/GHDx/IHME_RETROSPECTIVE_HEALTH_SPENDING_1995_2014/) data were all accessed directly from the [Global Health Data Exchange](http://ghdx.healthdata.org), under the linked [terms and conditions](http://www.healthdata.org/about/terms-and-conditions). All GHDx datasets are publicly available under the [Open Data Commons Attribution License](https://opendatacommons.org/licenses/by/summary). Unused datasets (such as those representing historical year ranges) in each source folder were excluded from the github upload. However, all codebook and readme files from the original source are contained in each linked subfolder. \n",
    "\n",
    "The Socio-Demographic Index (SDI) dataset was converted from xlsx to csv format, using the export feature in Excel 2013. The most current year available is 2016. The SDI is a (0,1) index calculated from measures of weatlh, education and fertility rate. The [documentation](/DATA/GHDx/IHME_GBD_2016_SDI_0/README.txt) further explains, \"SDI contains an interpretable scale: zero represents the lowest income per capita, lowest educational attainment, and highest TFR observed across all GBD geographies from 1970 to 2016, and one represents the highest income per capita, highest educational attainment, and lowest TFR.\" \n",
    "\n",
    "To allow for upload to github, the size of the Population Estimates dataset was manually restricted by limiting to only years 2014-2016. This restriction was done in Excel 2013 via Data > Filter > year_id > select [2014, 2015, 2016]. The restricted csv was saved under the same naming convention as the original dataset, with the 2014 replacing the start year. Population estimates are broken out into country, 5 year age band, and binary gender.\n",
    "\n",
    "The features of interest in the Health Expenditures (2014) dataset include:\n",
    " - `the_per_gdp`: Total Health Expenditures per GDP by country\n",
    " - `the_per_cap`: Total Health Expenditures per Capita by country\n",
    " - `ghes_per_the`: Proportion of Total Health Expenditures paid by Government, for each country\n",
    "\n",
    "\n",
    "**DataHub Country Codes:**\n",
    "The [Country Code](/DATA/country_codes_datahub.json) json file was accessed from [datahub](https://datahub.io/core/country-list), and is released under the [Public Domain Dedication and License](https://opendatacommons.org/licenses/pddl/summary). This file is simply used to map the Dalia dataset country codes into the country names used on all other datasets.\n",
    "\n",
    "\n",
    "### 1.3.a. Loading and Mapping Raw Dalia Data\n",
    "\n",
    "The script below contains all the basic calls necessary to load the raw Dalia data from the specified path above. Later sections will depend on the variables defined below. \n",
    "\n",
    "The remainder of the raw data is global data, and we can greatly reduce the file size and computation by restricting on European Union countries. Therefore, we will process the Dalia BI data before proceeding with the rest of our uploads."
   ]
  },
  {
   "cell_type": "code",
   "execution_count": 2,
   "metadata": {},
   "outputs": [],
   "source": [
    "# Load Dalia Basic Income Survery Data\n",
    "bi_raw = []\n",
    "with open(raw_bi_data_path) as csvfile:\n",
    "    reader = csv.reader(csvfile)\n",
    "    for row in reader:\n",
    "        bi_raw.append(row)         \n",
    "# Put raw BI data into np array for more convenient slicing\n",
    "bi_raw_np = np.asarray(bi_raw)\n",
    "del bi_raw\n",
    "\n",
    "# Load country abbreviation data into dictionary\n",
    "c_map = {}\n",
    "with open(raw_country_data_path, 'r') as infile:\n",
    "    raw_cntry = json.load(infile)\n",
    "    for i in range(len(raw_cntry)):\n",
    "        c_map[raw_cntry[i]['Code']] = raw_cntry[i]['Name']"
   ]
  },
  {
   "cell_type": "markdown",
   "metadata": {},
   "source": [
    "### 1.3.b. Mapping Raw Dalia Data\n",
    "\n",
    "We start by creating a basic function to map raw Dalia ages into 5-year age bands to match the GHDx Population Estimate data. Note that we assume ages 14-65 only, due to limitations on the Dalia data.\n",
    "\n",
    "Below, we define several dictionaries/lists to map possible Dalia data values (see the [codebook](/DATA/Dalia/codebook_basicincome.pdf) for further details). We map to ranked values and indicators in order to apply classification methods such as PCA, f_classif, and K-means. I used 'NA' for non-voters, 'NA' education level, and 'None of the Above' answers.\n",
    "\n",
    "The 2 questions that allow multiple answers from 7 options are each expanded into 7 indicator values. The other opinion question regards how a subject believe their work would be affected by basic income being instituted. In addition to the 9 seperated codebook values, I considered similar groupings of the single-option answers to this question. My ranked work-choice mappings were:\n",
    " - 4: Stop working (includes codebook 1)\n",
    " - 3: Work less (includes codebook 2)\n",
    " - 2: Social replacement (rolls up codebook 3, and 4)\n",
    " - 1: New skill/career path (rolls up codebook 5,6, and 7)\n",
    " - 0: No effect (includes codebook 8)\n",
    " - NA: None of the above (includes codebook 9)"
   ]
  },
  {
   "cell_type": "code",
   "execution_count": 3,
   "metadata": {},
   "outputs": [],
   "source": [
    "def age_grp_id(a):\n",
    "    '''\n",
    "    Calculates the 5-year age-band id in the GHDx Pop Est. Data.\n",
    "    ID's are (See GHDx documentation):\n",
    "        7: 10 to 14\n",
    "        8: 15 to 19\n",
    "        9: 20 to 24\n",
    "        10: 25 to 29\n",
    "        11: 30 to 34\n",
    "        12: 35 to 39\n",
    "        13: 40 to 44\n",
    "        14: 45 to 49\n",
    "        15: 50 to 54\n",
    "        16: 55 to 59\n",
    "        17: 60 to 64\n",
    "        18: 65 to 69\n",
    "        \n",
    "    ASSUMPTIONS:\n",
    "        Possible ages are limited to 14-65, such as the Dalia data.\n",
    "        \n",
    "    INPUT:\n",
    "        a: the age as an integer.\n",
    "        \n",
    "    RETURNS: \n",
    "        The GHDx Population Estimate Age Group ID for age a.\n",
    "    '''\n",
    "    return math.ceil((a-14)/5)+7\n",
    "\n",
    "###### DALIA DATA MAPPINGS ######\n",
    "\n",
    "# See Codebook in DATA/Dalia folder\n",
    "# Processed data uses ranked classifications wherever possible\n",
    "\n",
    "g_map = {'male' : 1, 'female' : 0} # gender\n",
    "u_map = {'urban' : 1, 'rural' : 0} # urban vs rural\n",
    "fte_map = {'yes' : 1, 'no' : 0}    # employed full time\n",
    "child_map = {'yes' : 1, 'no' : 0}  # children in residence\n",
    "\n",
    "# education level\n",
    "ed_map = {'high' : 3,              \n",
    "          'medium' : 2,\n",
    "          'low' : 1,\n",
    "          'no' : 0,\n",
    "          'NA' : 'NA'} \n",
    "\n",
    "# awareness of basic income\n",
    "aware_map = {'I understand it fully' : 3,     \n",
    "             'I know something about it' : 2,\n",
    "             'I have heard just a little about it' : 1,\n",
    "             'I have never heard of it' : 0}\n",
    "\n",
    "# Create 3 vote groups: For, Against, Non-voter\n",
    "vote_map = {'I would vote for it' : {'Cb_val':3,'Grp':1},\n",
    "            'I would probably vote for it' : {'Cb_val':2,'Grp':1},\n",
    "            'I would probably vote against it' : {'Cb_val':1,'Grp':0},\n",
    "            'I would vote against it' : {'Cb_val':0,'Grp':0},\n",
    "            'I would not vote' : {'Cb_val':'NA','Grp':'NA'}}\n",
    "\n",
    "# Create ranked work-choice groupings:\n",
    "    # 4: Stop working\n",
    "    # 3: Work less\n",
    "    # 2: Social replacement\n",
    "    # 1: New skill/career path\n",
    "    # 0: No effect\n",
    "    # NA: None of the above\n",
    "wc_map = {'‰Û_ stop working' : {'Desc':'Stop Work','Cb_val':1,'Grp':4},\n",
    "          '‰Û_ work less' : {'Desc':'Work Less','Cb_val':2,'Grp':3},\n",
    "          '‰Û_ do more volunteering work' : {'Desc':'Volunteer','Cb_val':3,'Grp':2}, \n",
    "          '‰Û_ spend more time with my family' : {'Desc':'Family','Cb_val':4,'Grp':2}, \n",
    "          '‰Û_ look for a different job' : {'Desc':'Different Job','Cb_val':5,'Grp':1},\n",
    "          '‰Û_ work as a freelancer' : {'Desc':'Freelance','Cb_val':6,'Grp':1}, \n",
    "          '‰Û_ gain additional skills' : {'Desc':'Skills','Cb_val':7,'Grp':1},\n",
    "          'A basic income would not affect my work choices' : {'Desc':'No Affect','Cb_val':8,'Grp':0},\n",
    "          'None of the above' : {'Desc':'Other','Cb_val':9,'Grp':'NA'}}\n",
    "\n",
    "# Override delimited text to abbrev lookup for support and against statements \n",
    "# Note that multiple choices are allowed and raw data is delimited with '|' \n",
    "# Lists are used to force alpha ordering of resultant abbreviations\n",
    "support_list = [['A','It reduces anxiety about financing basic needs'],\n",
    "                ['B','It creates more equality of opportunity'],\n",
    "                ['C','It encourages financial independence and self-responsibility'],\n",
    "                ['D','It increases solidarity, because it is funded by everyone'],\n",
    "                ['E','It reduces bureaucracy and administrative expenses'],\n",
    "                ['F','It increases appreciation for household work and volunteering'],\n",
    "                ['G','None of the above']]\n",
    "\n",
    "against_list = [['A','It is impossible to finance'],\n",
    "                ['B','It might encourage people to stop working'],\n",
    "                ['C','Foreigners might come to my country and take advantage of the benefit'],\n",
    "                ['D','It is against the principle of linking merit and reward'],\n",
    "                ['E','Only the people who need it most should get something from the state'],\n",
    "                ['F','It increases dependence on the state'],\n",
    "                ['G','None of the above']]\n",
    "\n",
    "op_feat_map = {'SA':'It reduces anxiety about financing basic needs',\n",
    "                'SB':'It creates more equality of opportunity',\n",
    "                'SC':'It encourages financial independence and self-responsibility',\n",
    "                'SD':'It increases solidarity, because it is funded by everyone',\n",
    "                'SE':'It reduces bureaucracy and administrative expenses',\n",
    "                'SF':'It increases appreciation for household work and volunteering',\n",
    "                'SG':'None of the above (Support)',\n",
    "                'AA':'It is impossible to finance',\n",
    "                'AB':'It might encourage people to stop working',\n",
    "                'AC':'Foreigners might come to my country and take advantage of the benefit',\n",
    "                'AD':'It is against the principle of linking merit and reward',\n",
    "                'AE':'Only the people who need it most should get something from the state',\n",
    "                'AF':'It increases dependence on the state',\n",
    "                'AG':'None of the above (Against)',\n",
    "                'aware':'Self-ranked awareness',\n",
    "                'wc_eff_grp':'Effects on Work Choice Grouped',\n",
    "                'wc_eff_cb':'Effects on Work Choice'}\n",
    "\n",
    "# NOTE: Dalia age groups and weights are overridden with GHDx Population Estimates data.\n"
   ]
  },
  {
   "cell_type": "markdown",
   "metadata": {},
   "source": [
    "Now that we've defined how to process the Dalia data, we process as a numpy array for easy slicing in our later analysis."
   ]
  },
  {
   "cell_type": "code",
   "execution_count": 4,
   "metadata": {},
   "outputs": [
    {
     "data": {
      "text/plain": [
       "(9649, 29)"
      ]
     },
     "execution_count": 4,
     "metadata": {},
     "output_type": "execute_result"
    }
   ],
   "source": [
    "# Build processed basic income data as numpy array\n",
    "bi_uuid = np.asarray([[]])\n",
    "bi_uuid_labels = np.asarray(['uuid','vote','vote_grp','cc','country',\n",
    "                             'male','age','age_grp',\n",
    "                             'urban','ed_lev','fte','child',\n",
    "                             'aware','wc_eff_cb','wc_eff_grp',\n",
    "                             'SA','SB','SC','SD','SE','SF','SG',\n",
    "                             'AA','AB','AC','AD','AE','AF','AG'])\n",
    "\n",
    "bi_uuid = np.vstack((bi_raw_np[1:,1], # direct uuid\n",
    "                     [vote_map[i]['Cb_val'] for i in bi_raw_np[1:,9]], # mapped vote\n",
    "                     [vote_map[i]['Grp'] for i in bi_raw_np[1:,9]], # mapped vote group\n",
    "                     bi_raw_np[1:,0], # direct country_code\n",
    "                     [c_map[i] for i in bi_raw_np[1:,0]], # mapped country name\n",
    "                     [g_map[i] for i in bi_raw_np[1:,3]], # mapped gender\n",
    "                     bi_raw_np[1:,2], # direct age\n",
    "                     [age_grp_id(int(i)) for i in bi_raw_np[1:,2]], # mapped age_group\n",
    "                     [u_map[i] for i in bi_raw_np[1:,4]], # mapped rural\n",
    "                     [ed_map[i] for i in bi_raw_np[1:,5]], # mapped dem_education_level\n",
    "                     [fte_map[i] for i in bi_raw_np[1:,6]], # mapped dem_full_time_job\n",
    "                     [child_map[i] for i in bi_raw_np[1:,7]], # mapped dem_has_child\n",
    "                     [aware_map[i] for i in bi_raw_np[1:,8]], # mapped aware\n",
    "                     [wc_map[i]['Cb_val'] for i in bi_raw_np[1:,10]], # code-book mapping wc_eff_cb\n",
    "                     [wc_map[i]['Grp'] for i in bi_raw_np[1:,10]], # grouped mapping wc_eff_grp\n",
    "                     np.asarray([[int(c[1] in i) for c in support_list] for i in bi_raw_np[1:,11]]).T, #support statements\n",
    "                     np.asarray([[int(c[1] in i) for c in against_list] for i in bi_raw_np[1:,12]]).T #against statements\n",
    "                    )).T\n",
    " \n",
    "del bi_raw_np\n",
    "# Check dimensions\n",
    "bi_uuid.shape"
   ]
  },
  {
   "cell_type": "markdown",
   "metadata": {},
   "source": [
    "### 1.4. Loading Global Data\n",
    "\n",
    "We can utilize `numpy.unique()` on the processed Dalia data to capture a list of EU countries to limit the remaining global data. This short series of scripts pulls in the rest of our source data. The variables defined below will be used throughout the remainder of our work.\n",
    "\n",
    "### 1.4.a. Population Estimate Data\n",
    "\n",
    "We reduce the size of the Population Estimate data by applying a restriction to just the values we need. In order, we restrict to EU countries, year is 2016, gender is only 'Male' or 'Female' (not 'Both'), and then age ranges are restricted to 5-year age bands between 15 and 64 (inclusive). Each step of this restriction can be reconciled and explored."
   ]
  },
  {
   "cell_type": "code",
   "execution_count": 6,
   "metadata": {},
   "outputs": [],
   "source": [
    "# Reference List to limit to EU countries only\n",
    "eu_list = list(np.unique(bi_uuid[:,4]))\n",
    "\n",
    "# Load Population Estimate Data\n",
    "# Limit Pop data to 15-64, EU countries, 2016 only\n",
    "pop_raw = []\n",
    "with open(raw_pop_data_path) as csvfile:\n",
    "    reader = csv.reader(csvfile)\n",
    "    for row in reader:\n",
    "        pop_raw.append(row)         \n",
    "# Put raw Pop data into np array for more convenient slicing\n",
    "pop_raw_np = np.asarray(pop_raw)\n",
    "del pop_raw\n",
    "\n",
    "# Apply Hierarchal Limitations: EU, year, sex, age group\n",
    "ind_eu = [i for i in range(len(pop_raw_np)) if pop_raw_np[i,1] in eu_list]\n",
    "pop_eu = np.asarray([list(pop_raw_np[i,:]) for i in ind_eu])\n",
    "\n",
    "# Limit EU to 2016\n",
    "ind_yr = [i for i in range(len(pop_eu)) if pop_eu[i,6]=='2016']\n",
    "pop_yr = np.asarray([list(pop_eu[i,:]) for i in ind_yr])\n",
    "del pop_eu\n",
    "\n",
    "# Limit EU,2016 to Male, Female only\n",
    "ind_sex = [i for i in range(len(pop_yr)) if pop_yr[i,3] in ('Male','Female')]\n",
    "pop_sex = np.asarray([list(pop_yr[i,:]) for i in ind_sex])\n",
    "del pop_yr\n",
    "\n",
    "# Limit EU,2016,sex to age group id's 8-17 (15-64 in 5 year age bands)\n",
    "ind_age = [i for i in range(len(pop_sex)) if int(pop_sex[i,4]) in range(8,18)]\n",
    "pop_np = np.asarray([list(pop_sex[i,:]) for i in ind_age])\n",
    "pop_np_lab = pop_raw_np[0,:]\n",
    "del pop_raw_np\n",
    "del pop_sex"
   ]
  },
  {
   "cell_type": "markdown",
   "metadata": {},
   "source": [
    "#### 1.4.b. Health Expenditure Data\n",
    "\n",
    "We reduce the size of the Health Expenditure data by applying a restriction to just the values we need. In order, we restrict to EU countries, year is 2014 (the most current), and then we restrict to just our three features of interest: Health Expenditures (HE) by GDP, HE per Capita, and Proportion of Total HE paid by Government. Each step of this restriction can be reconciled and explored.\n",
    "\n",
    "Results are stored in a python dict to easily hash with other global datasets."
   ]
  },
  {
   "cell_type": "code",
   "execution_count": 7,
   "metadata": {},
   "outputs": [],
   "source": [
    "# Load GHDx Health Expenditure Data\n",
    "# EU countries, 2014 (most current) only\n",
    "the_raw = []\n",
    "with open(raw_health_data_path) as csvfile:\n",
    "    reader = csv.reader(csvfile)\n",
    "    for row in reader:\n",
    "        the_raw.append(row)         \n",
    "# Put raw health data into np array for more convenient slicing\n",
    "the_raw_np = np.asarray(the_raw)\n",
    "del the_raw\n",
    "\n",
    "# Apply Hierarchal Limitations: EU, year\n",
    "# Limit to EU countries only\n",
    "ind_eu = [i for i in range(len(the_raw_np)) if the_raw_np[i,1] in eu_list]\n",
    "the_eu = np.asarray([list(the_raw_np[i,:]) for i in ind_eu])\n",
    "\n",
    "# Limit EU to 2014 (the most current year on this dataset)\n",
    "ind_yr = [i for i in range(len(the_eu)) if the_eu[i,4]=='2014']\n",
    "the_yr = np.asarray([list(the_eu[i,:]) for i in ind_yr])\n",
    "the_yr_lab = the_raw_np[0,:]\n",
    "the_yr_lab, the_yr.shape\n",
    "del the_raw_np\n",
    "del the_eu\n",
    "\n",
    "# Drop unneeded columns and store as dict\n",
    "# {location_name: {the_per_gdp: , the_per_cap, ghes_per_the}}\n",
    "# {country:{Health Exp. per GDP, Health Exp. per Capita, Govmt portion of total health exp.}}\n",
    "the = {}\n",
    "for row in the_yr:\n",
    "    the[row[1]] = {}\n",
    "    the[row[1]]['the_per_gdp'] = float(row[6])\n",
    "    the[row[1]]['the_per_cap'] = float(row[7])\n",
    "    the[row[1]]['ghes_per_the'] = float(row[8])\n",
    "del the_yr"
   ]
  },
  {
   "cell_type": "markdown",
   "metadata": {},
   "source": [
    "#### 1.4.c. Socio-Demographic Index Data\n",
    "\n",
    "We reduce the size of the SDI data by applying a restriction to just the values we need. In order, we restrict to EU countries, year is 2016 (the most current). Each step of this restriction can be reconciled and explored.\n",
    "\n",
    "Results are stored in a python dict to easily hash with other global datasets.\n",
    "\n",
    "**Note:** This csv file has extra headers at the top. Start reading at line 3."
   ]
  },
  {
   "cell_type": "code",
   "execution_count": 9,
   "metadata": {},
   "outputs": [],
   "source": [
    "# Load GHDx Socio-Demographic Data\n",
    "# Start Reading on row 3\n",
    "# EU countries, 2016 (most current-- found in last column) only\n",
    "sdi_raw = []\n",
    "with open(raw_sdi_data_path) as csvfile:\n",
    "    reader = csv.reader(csvfile)\n",
    "    i = 0 # to slice the header off\n",
    "    for row in reader:\n",
    "        i += 1\n",
    "        if i > 2:\n",
    "            sdi_raw.append(row)        \n",
    "\n",
    "# Put raw sdi data into np array for more convenient slicing\n",
    "sdi_raw_np = np.asarray(sdi_raw)\n",
    "sdi_raw_np[0,:]\n",
    "del sdi_raw\n",
    "\n",
    "# Limit to EU countries only\n",
    "ind_eu = [i for i in range(len(sdi_raw_np)) if sdi_raw_np[i,0] in eu_list]\n",
    "sdi_eu = np.asarray([list(sdi_raw_np[i,:]) for i in ind_eu])\n",
    "del sdi_raw_np\n",
    "\n",
    "# Pull 2016 SDI's into dictionary {country:SDI}\n",
    "sdi = {}\n",
    "for row in sdi_eu:\n",
    "    sdi[row[0]] = float(row[-1])\n",
    "del sdi_eu"
   ]
  },
  {
   "cell_type": "markdown",
   "metadata": {},
   "source": [
    "#### 1.4.d. World Happiness Data\n",
    "\n",
    "We reduce the size of the World Happiness data by applying a restriction to just the values we need. In order, we restrict to EU countries, then we pull only the Happiness Score feature and country name from the dataset. The happiness scores are normalized against the rest of the EU scores in order to obtain values in (0,1) with 0 low and 1 high, so they are scaled and easily comparable with other data points suchs as SDI, rate of government health coverage, and youth *employment* rate. Each step of this restriction can be reconciled and explored.\n",
    "\n",
    "Results are stored in a python dict to easily hash with other global datasets.\n",
    "\n",
    "**Note:** Scores are normalized against EU scores to (0,1) representing (low,high) happiness. "
   ]
  },
  {
   "cell_type": "code",
   "execution_count": 11,
   "metadata": {},
   "outputs": [],
   "source": [
    "# Load World Happiness Data\n",
    "# EU countries, 2016 reflected in dataset selection\n",
    "hap_raw = []\n",
    "with open(raw_happy_data_path) as csvfile:\n",
    "    reader = csv.reader(csvfile)\n",
    "    for row in reader:\n",
    "        hap_raw.append(row)        \n",
    "            \n",
    "# Put raw happiness data into np array for more convenient slicing\n",
    "hap_raw_np = np.asarray(hap_raw)\n",
    "hap_raw_np[0,:]\n",
    "del hap_raw\n",
    "\n",
    "# Limit to EU countries only\n",
    "ind_eu = [i for i in range(len(hap_raw_np)) if hap_raw_np[i,0] in eu_list]\n",
    "hap_eu = np.asarray([list(hap_raw_np[i,:]) for i in ind_eu])\n",
    "\n",
    "# Pull 2016 Normalized (0,1) Happiness Scores into dictionary {country:SDI}\n",
    "happy_score_nrml = {}\n",
    "hmax = np.max([float(hap_eu[i,3]) for i in range(len(hap_eu))])\n",
    "hmin = np.min([float(hap_eu[i,3]) for i in range(len(hap_eu))])\n",
    "for row in hap_eu:\n",
    "    happy_score = float(row[3])\n",
    "    happy_score_nrml[row[0]] = (happy_score-hmin)/(hmax-hmin)\n",
    "\n",
    "del ind_eu\n",
    "del hap_eu\n",
    "del hap_raw_np"
   ]
  },
  {
   "cell_type": "markdown",
   "metadata": {},
   "source": [
    "#### 1.4.c. Youth Unemployment Rate Data\n",
    "\n",
    "We reduce the size of the Youth Unemployment Rate data by applying a restriction to just the values we need. In order, we restrict to EU countries, then we pull only the 2014 rate and find the YER by subtracting it from 1. As such we are able to obtain values in (0,1) with 0 low and 1 high for Youth Employment (positive), so they are scaled and easily comparable with other data points suchs as SDI, rate of government health coverage, and normalized happiness score. Each step of this restriction can be reconciled and explored.\n",
    "\n",
    "Results are stored in a python dict to easily hash with other global datasets.\n",
    "\n",
    "**Notes:**\n",
    "- 2014 is the most current year available.\n",
    "- `YER` or Youth Employment Rate is saved so that (0,1) represents (low youth employment rate, high youth employment rate).\n",
    "- Country name for 'Slovak Republic' on this dataset needs to be overriden to match 'Slovakia' on the rest of the datasets."
   ]
  },
  {
   "cell_type": "code",
   "execution_count": 12,
   "metadata": {},
   "outputs": [],
   "source": [
    "# Load Youth Unemployment Data\n",
    "# EU countries, 2014 is most current year\n",
    "# Watch out that Slovak_Republic = Slovakia on all other data\n",
    "yu_raw = []\n",
    "with open(raw_yu_data_path) as csvfile:\n",
    "    reader = csv.reader(csvfile)\n",
    "    for row in reader:\n",
    "        yu_raw.append(row)        \n",
    "            \n",
    "# Put raw youth unemployment data into np array for more convenient slicing\n",
    "yu_raw_np = np.asarray(yu_raw)\n",
    "yu_raw_np[0,:]\n",
    "del yu_raw\n",
    "\n",
    "# Limit to EU countries only - override here\n",
    "eu_list = list(np.unique(bi_uuid[:,4])) + ['Slovak Republic']\n",
    "ind_eu = [i for i in range(len(yu_raw_np)) if yu_raw_np[i,0] in eu_list]\n",
    "yu_eu = np.asarray([list(yu_raw_np[i,:]) for i in ind_eu])\n",
    "\n",
    "# Note: Switching to Youth Employment Rate so high values better\n",
    "# Pull 2014 YER's into dictionary {country:YER}\n",
    "yer = {}\n",
    "for row in yu_eu:\n",
    "    if row[0]=='Slovak Republic':\n",
    "        yer['Slovakia'] = 1 - float(row[-1])/100\n",
    "    else:\n",
    "        yer[row[0]] = 1 - float(row[-1])/100\n",
    "\n",
    "del yu_raw_np\n",
    "del ind_eu\n",
    "del yu_eu"
   ]
  },
  {
   "cell_type": "markdown",
   "metadata": {},
   "source": [
    "## 2. Processing Data\n",
    "\n",
    "### 2.a. Aggregate European Union Survey Data\n",
    "\n",
    "In this section, we will prepare several slices of the aggregate Dalia data for further analysis. Voter groups are rolled up into support, oppose, or not voting. \n",
    "\n",
    "**Notes:** \n",
    " - Subjects with 'NA' values for education level are removed from all slices except initial X,Y. \n",
    " - Data is split into separate demographic and opinion subsets at each level.\n",
    " - Naming convention _vt3 represents 3 voter types (support, oppose, non-voter), and vt2 represents support and oppose only. The raw Dalia set has 5 voter categories, but we have rolled up both 'I would probably [not] vote for it' and 'I would [not] vote for it' into their respective support/[oppose] categories.\n",
    " - Response array (Y_xx) is the designated voter group.\n",
    " - Predictor matrices (X_xx) have a matching array of feature labels named X_xx_lab."
   ]
  },
  {
   "cell_type": "code",
   "execution_count": 13,
   "metadata": {},
   "outputs": [],
   "source": [
    "## Aggregate EU Data Slices - Initial X,Y\n",
    "\n",
    "# Create matrix X of Quantitative Predictors\n",
    "# And response classes Y of vote group\n",
    "X = bi_uuid[:,5:]\n",
    "X_lab = bi_uuid_labels[5:]\n",
    "Y = bi_uuid[:,2] # 3 vote groups: for, against, not voting"
   ]
  },
  {
   "cell_type": "markdown",
   "metadata": {},
   "source": [
    "The largest slice (X_vt3,Y_vt3) includes non-voters. All subjects with any 'NA' predictor value have been removed from the _vt3 data slices:"
   ]
  },
  {
   "cell_type": "code",
   "execution_count": 14,
   "metadata": {},
   "outputs": [],
   "source": [
    "# Remove NAs from predictors and their corresponding responses\n",
    "# Full predictor matrix and response with 3 vote classes\n",
    "na_ind_removed = [i for i in range(len(X)) if 'NA' not in X[i,:]]\n",
    "X_vt3 = np.asarray([list(X[i,:]) for i in na_ind_removed])\n",
    "Y_vt3 = np.asarray([Y[i] for i in na_ind_removed])\n",
    "del X\n",
    "del Y"
   ]
  },
  {
   "cell_type": "markdown",
   "metadata": {},
   "source": [
    "Split X_vt3 into subsets of demographic and opinion predictors:"
   ]
  },
  {
   "cell_type": "code",
   "execution_count": 15,
   "metadata": {},
   "outputs": [],
   "source": [
    "# Subset of demographic predictors only - 3 vote classes\n",
    "X_dem_vt3 = X_vt3[:,:7]\n",
    "X_dem_vt3_lab = X_lab[:7]\n",
    "\n",
    "# Subset of opinion predictors only - 3 votes classes\n",
    "X_op_vt3 = X_vt3[:,7:]\n",
    "X_op_vt3_lab = X_lab[7:]"
   ]
  },
  {
   "cell_type": "markdown",
   "metadata": {},
   "source": [
    "For the next slice (X_vt2,Y_vt2), we simply remove non-voters:"
   ]
  },
  {
   "cell_type": "code",
   "execution_count": 16,
   "metadata": {},
   "outputs": [],
   "source": [
    "# Restrict Data to only voters\n",
    "ind_voters = np.where(Y_vt3!='NA')\n",
    "Y_vt2 = Y_vt3[ind_voters]\n",
    "X_vt2 = np.asarray([list(X_vt3[i,:]) for i in ind_voters][0])"
   ]
  },
  {
   "cell_type": "markdown",
   "metadata": {},
   "source": [
    "And once again, we split the resulting matrix into subsets of demographic and opinion predictors:"
   ]
  },
  {
   "cell_type": "code",
   "execution_count": 17,
   "metadata": {},
   "outputs": [],
   "source": [
    "# Subset of demographic predictors only - non-voters excluded\n",
    "X_dem_vt2 = X_vt2[:,:7]\n",
    "X_dem_vt2_lab = X_lab[:7]\n",
    "\n",
    "# Subset of opinion predictors only - non-voters excluded\n",
    "X_op_vt2 = X_vt2[:,7:]\n",
    "X_op_vt2_lab = X_lab[7:]"
   ]
  },
  {
   "cell_type": "markdown",
   "metadata": {},
   "source": [
    "Only demographic data is needed for the subsets of non-voters (X_vtN,Yvt_N) and of voters that are opposed (X_vto,Y_vto)."
   ]
  },
  {
   "cell_type": "code",
   "execution_count": 18,
   "metadata": {},
   "outputs": [],
   "source": [
    "# Restrict Data to only non-voters\n",
    "ind_nonvoters = np.where(Y_vt3=='NA')\n",
    "Y_vtN = Y_vt3[ind_nonvoters]\n",
    "X_vtN = np.asarray([list(X_vt3[i,:]) for i in ind_nonvoters][0])\n",
    "\n",
    "# Subset of demographic predictors only - non-voters only\n",
    "X_dem_vtN = X_vtN[:,:7]\n",
    "X_dem_vtN_lab = X_lab[:7]"
   ]
  },
  {
   "cell_type": "code",
   "execution_count": 19,
   "metadata": {},
   "outputs": [],
   "source": [
    "# Restrict Data to only opposed\n",
    "ind_opposed = np.where(Y_vt3=='0')\n",
    "Y_vto = Y_vt3[ind_opposed]\n",
    "X_vto = np.asarray([list(X_vt3[i,:]) for i in ind_opposed][0])\n",
    "\n",
    "# Subset of demographic predictors only - opposed only\n",
    "X_dem_vto = X_vto[:,:7]\n",
    "X_dem_vto_lab = X_lab[:7]"
   ]
  },
  {
   "cell_type": "markdown",
   "metadata": {},
   "source": [
    "### 2.b. Basic Income Weighted Support by Country \n",
    "\n",
    "We will first calculate sample population weights for the Dalia dataset by taking the GHDx Populations Estimates as true values. As we are limited by the GHDx data, population weights will be calculated to binary gender and 5-year age band by country. Since Dalia includes 14 and 65 year-olds which would be alone in the 10-14 and 65-69 groups, we have removed the 14 and 65 year olds from the combined data. We also limit the Dalia data to exclude non-voters so we can calculate a proportion of support from each country with the rolled up, weighted values.\n",
    "\n",
    "To calculate the weights, we find the true population proportion of every age/gender cell in each country, and divide that by the sample population proportion in the same cell.\n",
    "\n",
    "The voters and in favor and against basic income are summed to each cell level and multiplied by their weight. Then the weighted support and oppose values are summed to the country level, and a proportion of support for that country is established by dividing the sum of weighted support by the sum of the weighted combined total."
   ]
  },
  {
   "cell_type": "code",
   "execution_count": 20,
   "metadata": {},
   "outputs": [],
   "source": [
    "# Create Population Weights\n",
    "\n",
    "# At gender, 5-year age band level, find\n",
    "# proportion of country population.\n",
    "\n",
    "# Get population totals by country\n",
    "cntry_pop_tots = {}\n",
    "for row in pop_np:\n",
    "    if row[1] in cntry_pop_tots:\n",
    "        cntry_pop_tots[row[1]] += float(row[7])\n",
    "    else:\n",
    "        cntry_pop_tots[row[1]] = float(row[7])\n",
    "\n",
    "# Find age/gender proportions of country populations\n",
    "# Store in dict {country:{sex_id:{age_grp:pop_prp}}}\n",
    "pop_prps = {}\n",
    "for i in range(len(pop_np)):\n",
    "    if pop_np[i,1] not in pop_prps: # brand new\n",
    "        pop_prps[pop_np[i,1]] = {} # add country dict\n",
    "    if str(int(pop_np[i,2])%2) not in pop_prps[pop_np[i,1]]: # male dict not in country dict\n",
    "        pop_prps[pop_np[i,1]][str(int(pop_np[i,2])%2)] = {} # add sex_id dict\n",
    "    \n",
    "    pop_prps[pop_np[i,1]][str(int(pop_np[i,2])%2)][pop_np[i,4]] = float(pop_np[i,7])/cntry_pop_tots[pop_np[i,1]] # set proportion value at age band dict\n",
    " \n",
    "\n",
    "## IMPORTANT NOTE:\n",
    "# Limit Dalia data to only voters and those with \n",
    "# age_grp id's 8 through 17 (throw out 14 and 65 year olds)\n",
    "\n",
    "# Count Dalia uuid's by male, age_grp for each country\n",
    "# Get sample totals by country\n",
    "cntry_samp_tots = {}\n",
    "for row in bi_uuid:\n",
    "    if (row[1] != 'NA' and row[7] not in ('7','18')):\n",
    "        if row[4] in cntry_samp_tots:\n",
    "            cntry_samp_tots[row[4]] += float(1)\n",
    "        else:\n",
    "            cntry_samp_tots[row[4]] = float(1)\n",
    "    else:\n",
    "        continue\n",
    "\n",
    "# Find age/gender counts of country sample pops\n",
    "# Store counts in dict: {country:{sex_id:{age_grp:samp_count}}}\n",
    "samp_cts = {}\n",
    "for i in range(len(bi_uuid)):\n",
    "    if (bi_uuid[i,1] != 'NA' and bi_uuid[i,7] not in ('7','18')):\n",
    "        if bi_uuid[i,4] not in samp_cts: # brand new\n",
    "            samp_cts[bi_uuid[i,4]] = {} # add country dict\n",
    "        if bi_uuid[i,5] not in samp_cts[bi_uuid[i,4]]: # male dict not in country dict\n",
    "            samp_cts[bi_uuid[i,4]][bi_uuid[i,5]] = {} # add sex_id dict\n",
    "        if bi_uuid[i,7] not in samp_cts[bi_uuid[i,4]][bi_uuid[i,5]]:\n",
    "            # Set new count value\n",
    "            samp_cts[bi_uuid[i,4]][bi_uuid[i,5]][bi_uuid[i,7]] = {'supp':0, 'opp':0, 'ct':1}\n",
    "            if bi_uuid[i,2] == '1':\n",
    "                samp_cts[bi_uuid[i,4]][bi_uuid[i,5]][bi_uuid[i,7]]['supp'] += float(1)\n",
    "            else: # NA's already excluded so just add to opp\n",
    "                samp_cts[bi_uuid[i,4]][bi_uuid[i,5]][bi_uuid[i,7]]['opp'] += float(1)\n",
    "        else:\n",
    "            # Add to count value\n",
    "            samp_cts[bi_uuid[i,4]][bi_uuid[i,5]][bi_uuid[i,7]]['ct'] += float(1)\n",
    "            if bi_uuid[i,2] == '1':\n",
    "                samp_cts[bi_uuid[i,4]][bi_uuid[i,5]][bi_uuid[i,7]]['supp'] += float(1)\n",
    "            else: # NA's already excluded so just add to opp\n",
    "                samp_cts[bi_uuid[i,4]][bi_uuid[i,5]][bi_uuid[i,7]]['opp'] += float(1)\n",
    "    else:\n",
    "        continue # do nothing if age 14, 65 or a non-voter\n",
    "    \n",
    "# Calculate Sample proportions and weight = pop_prp/samp_prp\n",
    "# Store in dict: {country{sex{age{weight}}}}\n",
    "samp_wt = {}\n",
    "for country in samp_cts.keys():\n",
    "    samp_wt[country] = {}\n",
    "    for sex in samp_cts[country].keys():\n",
    "        samp_wt[country][sex] = {}\n",
    "        for ag in samp_cts[country][sex].keys():\n",
    "            samp_prp = float(samp_cts[country][sex][ag]['ct'])/float(cntry_samp_tots[country])\n",
    "            pop_prp = pop_prps[country][sex][ag]\n",
    "            weight = pop_prp/samp_prp\n",
    "            samp_wt[country][sex][ag] = weight\n",
    "\n",
    "            \n",
    "# Multiply weight by vote_for and vote_against counts.\n",
    "for country in samp_cts.keys():\n",
    "    for sex in samp_cts[country].keys():\n",
    "        for ag in samp_cts[country][sex].keys():\n",
    "            samp_cts[country][sex][ag]['w_supp'] = samp_wt[country][sex][ag] * \\\n",
    "                                                samp_cts[country][sex][ag]['supp']\n",
    "            samp_cts[country][sex][ag]['w_opp'] = samp_wt[country][sex][ag] * \\\n",
    "                                                samp_cts[country][sex][ag]['opp']\n",
    "\n",
    "\n",
    "# Sum weighted vote counts to country level.\n",
    "# Store in dict {country:{sum_w_opp,sum_w_supp}}\n",
    "wt_cntry = {}\n",
    "for country in samp_cts.keys():\n",
    "    for sex in samp_cts[country].keys():\n",
    "        for ag in samp_cts[country][sex].keys():\n",
    "            if country in wt_cntry: # just add to totals\n",
    "                wt_cntry[country]['sum_w_opp'] += samp_cts[country][sex][ag]['w_opp']\n",
    "                wt_cntry[country]['sum_w_supp'] += samp_cts[country][sex][ag]['w_supp']\n",
    "            else: # add new country key\n",
    "                wt_cntry[country] = {}\n",
    "                wt_cntry[country]['sum_w_opp'] = samp_cts[country][sex][ag]['w_opp']\n",
    "                wt_cntry[country]['sum_w_supp'] = samp_cts[country][sex][ag]['w_supp']\n",
    "                \n",
    "# Calculate weighted proportion of voter support in each country\n",
    "wt_prp_supp = {}\n",
    "for country in wt_cntry.keys():\n",
    "    wt_prp_supp[country] = wt_cntry[country]['sum_w_supp']/ \\\n",
    "                (wt_cntry[country]['sum_w_supp']+wt_cntry[country]['sum_w_opp'])"
   ]
  },
  {
   "cell_type": "markdown",
   "metadata": {},
   "source": [
    "### 2.c. Combining Country Indices in a Single Data Frame\n",
    "\n",
    "By design, our country summary indices are easily hashed together from Python dictionaries into a pandas data frame. "
   ]
  },
  {
   "cell_type": "code",
   "execution_count": 21,
   "metadata": {},
   "outputs": [
    {
     "data": {
      "text/html": [
       "<div>\n",
       "<table border=\"1\" class=\"dataframe\">\n",
       "  <thead>\n",
       "    <tr style=\"text-align: right;\">\n",
       "      <th></th>\n",
       "      <th>Country</th>\n",
       "      <th>Pct_Supp_BI</th>\n",
       "      <th>SDI</th>\n",
       "      <th>Nrml_H_Score</th>\n",
       "      <th>Pct_Govt_HE</th>\n",
       "      <th>THE_GDP</th>\n",
       "      <th>THE_Cap</th>\n",
       "      <th>YER</th>\n",
       "    </tr>\n",
       "  </thead>\n",
       "  <tbody>\n",
       "    <tr>\n",
       "      <th>0</th>\n",
       "      <td>Austria</td>\n",
       "      <td>0.653759</td>\n",
       "      <td>0.8922</td>\n",
       "      <td>0.877002</td>\n",
       "      <td>0.779853</td>\n",
       "      <td>0.111880</td>\n",
       "      <td>5471.085938</td>\n",
       "      <td>0.908</td>\n",
       "    </tr>\n",
       "    <tr>\n",
       "      <th>1</th>\n",
       "      <td>Belgium</td>\n",
       "      <td>0.682517</td>\n",
       "      <td>0.8988</td>\n",
       "      <td>0.819583</td>\n",
       "      <td>0.779056</td>\n",
       "      <td>0.105897</td>\n",
       "      <td>4750.610840</td>\n",
       "      <td>0.764</td>\n",
       "    </tr>\n",
       "    <tr>\n",
       "      <th>2</th>\n",
       "      <td>Bulgaria</td>\n",
       "      <td>0.897118</td>\n",
       "      <td>0.8461</td>\n",
       "      <td>0.000000</td>\n",
       "      <td>0.546806</td>\n",
       "      <td>0.084245</td>\n",
       "      <td>1490.361328</td>\n",
       "      <td>0.741</td>\n",
       "    </tr>\n",
       "    <tr>\n",
       "      <th>3</th>\n",
       "      <td>Cyprus</td>\n",
       "      <td>0.893807</td>\n",
       "      <td>0.8718</td>\n",
       "      <td>0.401632</td>\n",
       "      <td>0.460323</td>\n",
       "      <td>0.072384</td>\n",
       "      <td>2019.437622</td>\n",
       "      <td>0.643</td>\n",
       "    </tr>\n",
       "    <tr>\n",
       "      <th>4</th>\n",
       "      <td>Czech Republic</td>\n",
       "      <td>0.474060</td>\n",
       "      <td>0.8811</td>\n",
       "      <td>0.718948</td>\n",
       "      <td>0.848322</td>\n",
       "      <td>0.073851</td>\n",
       "      <td>2383.707764</td>\n",
       "      <td>0.833</td>\n",
       "    </tr>\n",
       "    <tr>\n",
       "      <th>5</th>\n",
       "      <td>Germany</td>\n",
       "      <td>0.655065</td>\n",
       "      <td>0.8887</td>\n",
       "      <td>0.839226</td>\n",
       "      <td>0.773424</td>\n",
       "      <td>0.112451</td>\n",
       "      <td>5356.443359</td>\n",
       "      <td>0.924</td>\n",
       "    </tr>\n",
       "    <tr>\n",
       "      <th>6</th>\n",
       "      <td>Denmark</td>\n",
       "      <td>0.542436</td>\n",
       "      <td>0.9253</td>\n",
       "      <td>1.000000</td>\n",
       "      <td>0.847642</td>\n",
       "      <td>0.108050</td>\n",
       "      <td>5074.840332</td>\n",
       "      <td>0.876</td>\n",
       "    </tr>\n",
       "    <tr>\n",
       "      <th>7</th>\n",
       "      <td>Estonia</td>\n",
       "      <td>0.899748</td>\n",
       "      <td>0.8874</td>\n",
       "      <td>0.392868</td>\n",
       "      <td>0.789735</td>\n",
       "      <td>0.063672</td>\n",
       "      <td>1830.080078</td>\n",
       "      <td>0.830</td>\n",
       "    </tr>\n",
       "    <tr>\n",
       "      <th>8</th>\n",
       "      <td>Spain</td>\n",
       "      <td>0.773756</td>\n",
       "      <td>0.8482</td>\n",
       "      <td>0.647930</td>\n",
       "      <td>0.710869</td>\n",
       "      <td>0.090030</td>\n",
       "      <td>3095.679932</td>\n",
       "      <td>0.421</td>\n",
       "    </tr>\n",
       "    <tr>\n",
       "      <th>9</th>\n",
       "      <td>Finland</td>\n",
       "      <td>0.816774</td>\n",
       "      <td>0.9071</td>\n",
       "      <td>0.965851</td>\n",
       "      <td>0.780177</td>\n",
       "      <td>0.093438</td>\n",
       "      <td>3934.596436</td>\n",
       "      <td>0.808</td>\n",
       "    </tr>\n",
       "    <tr>\n",
       "      <th>10</th>\n",
       "      <td>France</td>\n",
       "      <td>0.707316</td>\n",
       "      <td>0.8688</td>\n",
       "      <td>0.683288</td>\n",
       "      <td>0.799311</td>\n",
       "      <td>0.112904</td>\n",
       "      <td>4589.042480</td>\n",
       "      <td>0.761</td>\n",
       "    </tr>\n",
       "    <tr>\n",
       "      <th>11</th>\n",
       "      <td>United Kingdom</td>\n",
       "      <td>0.728667</td>\n",
       "      <td>0.8634</td>\n",
       "      <td>0.757933</td>\n",
       "      <td>0.831427</td>\n",
       "      <td>0.091155</td>\n",
       "      <td>3748.811768</td>\n",
       "      <td>0.833</td>\n",
       "    </tr>\n",
       "    <tr>\n",
       "      <th>12</th>\n",
       "      <td>Greece</td>\n",
       "      <td>0.796993</td>\n",
       "      <td>0.8532</td>\n",
       "      <td>0.246600</td>\n",
       "      <td>0.616783</td>\n",
       "      <td>0.080823</td>\n",
       "      <td>2169.760254</td>\n",
       "      <td>0.461</td>\n",
       "    </tr>\n",
       "    <tr>\n",
       "      <th>13</th>\n",
       "      <td>Croatia</td>\n",
       "      <td>0.912850</td>\n",
       "      <td>0.8499</td>\n",
       "      <td>0.384104</td>\n",
       "      <td>0.818671</td>\n",
       "      <td>0.078032</td>\n",
       "      <td>1734.473389</td>\n",
       "      <td>0.541</td>\n",
       "    </tr>\n",
       "    <tr>\n",
       "      <th>14</th>\n",
       "      <td>Hungary</td>\n",
       "      <td>0.619883</td>\n",
       "      <td>0.8490</td>\n",
       "      <td>0.280447</td>\n",
       "      <td>0.681267</td>\n",
       "      <td>0.071676</td>\n",
       "      <td>1854.804321</td>\n",
       "      <td>0.790</td>\n",
       "    </tr>\n",
       "    <tr>\n",
       "      <th>15</th>\n",
       "      <td>Ireland</td>\n",
       "      <td>0.715243</td>\n",
       "      <td>0.8855</td>\n",
       "      <td>0.812934</td>\n",
       "      <td>0.676086</td>\n",
       "      <td>0.076048</td>\n",
       "      <td>4005.900635</td>\n",
       "      <td>0.742</td>\n",
       "    </tr>\n",
       "    <tr>\n",
       "      <th>16</th>\n",
       "      <td>Italy</td>\n",
       "      <td>0.741430</td>\n",
       "      <td>0.8669</td>\n",
       "      <td>0.531883</td>\n",
       "      <td>0.773896</td>\n",
       "      <td>0.090356</td>\n",
       "      <td>3311.380615</td>\n",
       "      <td>0.559</td>\n",
       "    </tr>\n",
       "    <tr>\n",
       "      <th>17</th>\n",
       "      <td>Lithuania</td>\n",
       "      <td>0.787600</td>\n",
       "      <td>0.8762</td>\n",
       "      <td>0.482321</td>\n",
       "      <td>0.679106</td>\n",
       "      <td>0.065482</td>\n",
       "      <td>1830.259399</td>\n",
       "      <td>0.785</td>\n",
       "    </tr>\n",
       "    <tr>\n",
       "      <th>18</th>\n",
       "      <td>Luxembourg</td>\n",
       "      <td>0.720711</td>\n",
       "      <td>0.9358</td>\n",
       "      <td>0.802055</td>\n",
       "      <td>0.839283</td>\n",
       "      <td>0.069379</td>\n",
       "      <td>7104.762207</td>\n",
       "      <td>0.840</td>\n",
       "    </tr>\n",
       "    <tr>\n",
       "      <th>19</th>\n",
       "      <td>Latvia</td>\n",
       "      <td>0.834864</td>\n",
       "      <td>0.8532</td>\n",
       "      <td>0.405863</td>\n",
       "      <td>0.631768</td>\n",
       "      <td>0.058807</td>\n",
       "      <td>1427.104492</td>\n",
       "      <td>0.807</td>\n",
       "    </tr>\n",
       "    <tr>\n",
       "      <th>20</th>\n",
       "      <td>Malta</td>\n",
       "      <td>0.652381</td>\n",
       "      <td>0.8563</td>\n",
       "      <td>0.686310</td>\n",
       "      <td>0.691640</td>\n",
       "      <td>0.097499</td>\n",
       "      <td>3057.836426</td>\n",
       "      <td>0.864</td>\n",
       "    </tr>\n",
       "    <tr>\n",
       "      <th>21</th>\n",
       "      <td>Netherlands</td>\n",
       "      <td>0.653138</td>\n",
       "      <td>0.9181</td>\n",
       "      <td>0.943487</td>\n",
       "      <td>0.884001</td>\n",
       "      <td>0.107252</td>\n",
       "      <td>5233.758789</td>\n",
       "      <td>0.889</td>\n",
       "    </tr>\n",
       "    <tr>\n",
       "      <th>22</th>\n",
       "      <td>Poland</td>\n",
       "      <td>0.688395</td>\n",
       "      <td>0.8720</td>\n",
       "      <td>0.488969</td>\n",
       "      <td>0.714002</td>\n",
       "      <td>0.063132</td>\n",
       "      <td>1629.232666</td>\n",
       "      <td>0.760</td>\n",
       "    </tr>\n",
       "    <tr>\n",
       "      <th>23</th>\n",
       "      <td>Portugal</td>\n",
       "      <td>0.668414</td>\n",
       "      <td>0.7962</td>\n",
       "      <td>0.273799</td>\n",
       "      <td>0.665625</td>\n",
       "      <td>0.092517</td>\n",
       "      <td>2696.677490</td>\n",
       "      <td>0.632</td>\n",
       "    </tr>\n",
       "    <tr>\n",
       "      <th>24</th>\n",
       "      <td>Romania</td>\n",
       "      <td>0.859669</td>\n",
       "      <td>0.8379</td>\n",
       "      <td>0.396192</td>\n",
       "      <td>0.790763</td>\n",
       "      <td>0.055479</td>\n",
       "      <td>1076.601318</td>\n",
       "      <td>0.749</td>\n",
       "    </tr>\n",
       "    <tr>\n",
       "      <th>25</th>\n",
       "      <td>Sweden</td>\n",
       "      <td>0.647340</td>\n",
       "      <td>0.8724</td>\n",
       "      <td>0.928982</td>\n",
       "      <td>0.851293</td>\n",
       "      <td>0.117758</td>\n",
       "      <td>5445.598633</td>\n",
       "      <td>0.772</td>\n",
       "    </tr>\n",
       "    <tr>\n",
       "      <th>26</th>\n",
       "      <td>Slovenia</td>\n",
       "      <td>0.765377</td>\n",
       "      <td>0.8807</td>\n",
       "      <td>0.468722</td>\n",
       "      <td>0.731782</td>\n",
       "      <td>0.090516</td>\n",
       "      <td>2844.781982</td>\n",
       "      <td>0.792</td>\n",
       "    </tr>\n",
       "    <tr>\n",
       "      <th>27</th>\n",
       "      <td>Slovakia</td>\n",
       "      <td>0.592329</td>\n",
       "      <td>0.8799</td>\n",
       "      <td>0.562406</td>\n",
       "      <td>0.762881</td>\n",
       "      <td>0.076547</td>\n",
       "      <td>2203.417236</td>\n",
       "      <td>0.689</td>\n",
       "    </tr>\n",
       "  </tbody>\n",
       "</table>\n",
       "</div>"
      ],
      "text/plain": [
       "           Country  Pct_Supp_BI     SDI  Nrml_H_Score  Pct_Govt_HE   THE_GDP  \\\n",
       "0          Austria     0.653759  0.8922      0.877002     0.779853  0.111880   \n",
       "1          Belgium     0.682517  0.8988      0.819583     0.779056  0.105897   \n",
       "2         Bulgaria     0.897118  0.8461      0.000000     0.546806  0.084245   \n",
       "3           Cyprus     0.893807  0.8718      0.401632     0.460323  0.072384   \n",
       "4   Czech Republic     0.474060  0.8811      0.718948     0.848322  0.073851   \n",
       "5          Germany     0.655065  0.8887      0.839226     0.773424  0.112451   \n",
       "6          Denmark     0.542436  0.9253      1.000000     0.847642  0.108050   \n",
       "7          Estonia     0.899748  0.8874      0.392868     0.789735  0.063672   \n",
       "8            Spain     0.773756  0.8482      0.647930     0.710869  0.090030   \n",
       "9          Finland     0.816774  0.9071      0.965851     0.780177  0.093438   \n",
       "10          France     0.707316  0.8688      0.683288     0.799311  0.112904   \n",
       "11  United Kingdom     0.728667  0.8634      0.757933     0.831427  0.091155   \n",
       "12          Greece     0.796993  0.8532      0.246600     0.616783  0.080823   \n",
       "13         Croatia     0.912850  0.8499      0.384104     0.818671  0.078032   \n",
       "14         Hungary     0.619883  0.8490      0.280447     0.681267  0.071676   \n",
       "15         Ireland     0.715243  0.8855      0.812934     0.676086  0.076048   \n",
       "16           Italy     0.741430  0.8669      0.531883     0.773896  0.090356   \n",
       "17       Lithuania     0.787600  0.8762      0.482321     0.679106  0.065482   \n",
       "18      Luxembourg     0.720711  0.9358      0.802055     0.839283  0.069379   \n",
       "19          Latvia     0.834864  0.8532      0.405863     0.631768  0.058807   \n",
       "20           Malta     0.652381  0.8563      0.686310     0.691640  0.097499   \n",
       "21     Netherlands     0.653138  0.9181      0.943487     0.884001  0.107252   \n",
       "22          Poland     0.688395  0.8720      0.488969     0.714002  0.063132   \n",
       "23        Portugal     0.668414  0.7962      0.273799     0.665625  0.092517   \n",
       "24         Romania     0.859669  0.8379      0.396192     0.790763  0.055479   \n",
       "25          Sweden     0.647340  0.8724      0.928982     0.851293  0.117758   \n",
       "26        Slovenia     0.765377  0.8807      0.468722     0.731782  0.090516   \n",
       "27        Slovakia     0.592329  0.8799      0.562406     0.762881  0.076547   \n",
       "\n",
       "        THE_Cap    YER  \n",
       "0   5471.085938  0.908  \n",
       "1   4750.610840  0.764  \n",
       "2   1490.361328  0.741  \n",
       "3   2019.437622  0.643  \n",
       "4   2383.707764  0.833  \n",
       "5   5356.443359  0.924  \n",
       "6   5074.840332  0.876  \n",
       "7   1830.080078  0.830  \n",
       "8   3095.679932  0.421  \n",
       "9   3934.596436  0.808  \n",
       "10  4589.042480  0.761  \n",
       "11  3748.811768  0.833  \n",
       "12  2169.760254  0.461  \n",
       "13  1734.473389  0.541  \n",
       "14  1854.804321  0.790  \n",
       "15  4005.900635  0.742  \n",
       "16  3311.380615  0.559  \n",
       "17  1830.259399  0.785  \n",
       "18  7104.762207  0.840  \n",
       "19  1427.104492  0.807  \n",
       "20  3057.836426  0.864  \n",
       "21  5233.758789  0.889  \n",
       "22  1629.232666  0.760  \n",
       "23  2696.677490  0.632  \n",
       "24  1076.601318  0.749  \n",
       "25  5445.598633  0.772  \n",
       "26  2844.781982  0.792  \n",
       "27  2203.417236  0.689  "
      ]
     },
     "execution_count": 21,
     "metadata": {},
     "output_type": "execute_result"
    }
   ],
   "source": [
    "cd = []\n",
    "for country in wt_prp_supp.keys():\n",
    "    cd.append((country,\n",
    "               wt_prp_supp[country],\n",
    "               sdi[country],\n",
    "               happy_score_nrml[country],\n",
    "               the[country]['ghes_per_the'],\n",
    "               the[country]['the_per_gdp'],\n",
    "               the[country]['the_per_cap'],\n",
    "               yer[country]))\n",
    "dtype = [('Country',object),('Pct_Supp_BI','f4'),('SDI','f4'),\n",
    "         ('Nrml_H_Score','f4'),('Pct_Govt_HE','f4'),\n",
    "         ('THE_GDP','f4'),('THE_Cap','f4'),('YER','f4')]\n",
    "a = np.array(cd, dtype=dtype)\n",
    "df = pd.DataFrame(a)\n",
    "df"
   ]
  },
  {
   "cell_type": "markdown",
   "metadata": {},
   "source": [
    "## Findings\n",
    "\n",
    "### 1. Aggregate EU Survery Data - Demographics\n",
    "\n",
    "The aggregate European Union data is useful for exploring overall support by demographic. We are able to create some meaningful visualizations so the curious party can dissect the confounding factors contributing to a vote in favor or against basic income. \n",
    "\n",
    "#### 1.a. Excluding Non-Voters Impacts Young\n",
    "The aggregate data also allows us to get a sense of who may be excluded from the country index for being a non-voter. A few visualizations on our data slices show below that the demographic most impacted by the exclusion of non-voters are young people. While some may be too young to legally vote (e.g.: 15-19 age band), the skew is clearly present up until the early thirties, as seen below:"
   ]
  },
  {
   "cell_type": "code",
   "execution_count": 22,
   "metadata": {},
   "outputs": [
    {
     "data": {
      "image/png": "[encoded data removed]",
      "text/plain": [
       "<matplotlib.figure.Figure at 0x7f7c43dfcbe0>"
      ]
     },
     "metadata": {},
     "output_type": "display_data"
    }
   ],
   "source": [
    "# Demographics of Voters versus Non-Voters\n",
    "\n",
    "# Age band comparison\n",
    "nv_agebands = [int(X_dem_vtN[i,2]) for i in range(len(X_dem_vtN))]\n",
    "v_agebands = [int(X_dem_vt2[i,2]) for i in range(len(X_dem_vt2))]\n",
    "ageband_labs = ['>15','15-19','20-24','25-29','30-34','35-39','40-44','45-49','50-54','55-59','60-64','>64']\n",
    "\n",
    "bns = [i for i in range(7,20)]\n",
    "fig,ax = plt.subplots()\n",
    "plt.hist([v_agebands,nv_agebands], normed=True, bins=bns, histtype='bar',\n",
    "                            label=['Voters','Non-Voters'],\n",
    "                            color=['lightslategray','lightsalmon'])\n",
    "plt.xticks(bns,ageband_labs, rotation=45, va='top', ha='left')\n",
    "\n",
    "yvals = ax.get_yticks()\n",
    "ax.set_yticklabels(['{:3.0f}%'.format(y*100) for y in yvals])\n",
    "\n",
    "ax.set_title('Distribution of Voters and Non-Voters by Age Band', fontweight='bold')\n",
    "ax.legend()\n",
    "plt.show()"
   ]
  },
  {
   "cell_type": "markdown",
   "metadata": {},
   "source": [
    "#### 1.b. Young Support Basic Income\n",
    "\n",
    "We see a similar yet less significant skew in the graph of support versus oppose (excluding non-voters) by age band. This suggests that the country index data is underestimating the proportion of support, if we assume that non-voting young people skew toward supporting basic income."
   ]
  },
  {
   "cell_type": "code",
   "execution_count": 23,
   "metadata": {},
   "outputs": [
    {
     "data": {
      "image/png": "[encoded data removed]",
      "text/plain": [
       "<matplotlib.figure.Figure at 0x7f7c43d9f1d0>"
      ]
     },
     "metadata": {},
     "output_type": "display_data"
    }
   ],
   "source": [
    "# Voter Demographics Support vs. Against\n",
    "\n",
    "# Age band comparison\n",
    "supp_agebands = [int(X_dem_vt2[i,2]) for i in range(len(X_dem_vt2)) if Y_vt2[i]=='1'] # support\n",
    "against_agebands = [int(X_dem_vt2[i,2]) for i in range(len(X_dem_vt2)) if Y_vt2[i]=='0'] # against\n",
    "ageband_labs = ['>15','15-19','20-24','25-29','30-34','35-39','40-44','45-49','50-54','55-59','60-64','>64']\n",
    "\n",
    "bns = [i for i in range(7,20)]\n",
    "fig,ax = plt.subplots()\n",
    "plt.hist([supp_agebands,against_agebands], normed=True, bins=bns, histtype='bar',\n",
    "                            label=['Support','Oppose'],\n",
    "                            color=['lightgreen','lightsteelblue'])\n",
    "plt.xticks(bns,ageband_labs, rotation=45, va='top', ha='left')\n",
    "\n",
    "yvals = ax.get_yticks()\n",
    "ax.set_yticklabels(['{:3.0f}%'.format(y*100) for y in yvals])\n",
    "\n",
    "ax.set_title('Distribution of Basic Income Support and Opposition by Age Band',fontweight='bold')\n",
    "ax.legend()\n",
    "plt.show()"
   ]
  },
  {
   "cell_type": "markdown",
   "metadata": {},
   "source": [
    "#### 1.c. Other Demographic Factors\n",
    "\n",
    "Full-time Employment and Education Level also have significant impact on basic income opinion. However, it is worth noting that there is only a small representation (<3%) in the 'None' designation for education level. "
   ]
  },
  {
   "cell_type": "code",
   "execution_count": 25,
   "metadata": {},
   "outputs": [
    {
     "data": {
      "image/png": "[encoded data removed]",
      "text/plain": [
       "<matplotlib.figure.Figure at 0x7f7c44e9c0b8>"
      ]
     },
     "metadata": {},
     "output_type": "display_data"
    }
   ],
   "source": [
    "# All other demographic support vs oppose comparison\n",
    "def get_prpn_s_o(col):\n",
    "    '''\n",
    "    Dummy function to pull support and oppose proportions of total voters.\n",
    "    Excludes non-voters.\n",
    "    \n",
    "    Input: \n",
    "        col: the column to pull frequencies on\n",
    "    \n",
    "    Returns:\n",
    "        (support,oppose) tuple of lists of frequency for each \n",
    "                    value (increasing key order to index) represented in col.\n",
    "    '''\n",
    "    # get total counts - voters only\n",
    "    tu, tc = np.unique(X_dem_vt2[:,col], return_counts=True)\n",
    "    t = dict(zip(tu,tc))\n",
    "    \n",
    "    # get total oppose counts\n",
    "    ou, oc = np.unique(X_dem_vto[:,col], return_counts=True)\n",
    "    o = dict(zip(ou,oc))\n",
    "    \n",
    "    sprp = []\n",
    "    oprp = []\n",
    "    for k in t.keys():\n",
    "        if k != 'NA':\n",
    "            if k in o.keys():\n",
    "                sprp.append((t[k]-o[k])/t[k])\n",
    "                oprp.append(o[k]/t[k])\n",
    "            else: \n",
    "                sprp.append(1)\n",
    "                oprp.append(0)\n",
    "    return sprp,oprp\n",
    "\n",
    "# Get all proportions by column\n",
    "so_urb = get_prpn_s_o(3)\n",
    "so_gen = get_prpn_s_o(0)\n",
    "so_ch = get_prpn_s_o(6)\n",
    "so_ft = get_prpn_s_o(5)\n",
    "so_edu = get_prpn_s_o(4)\n",
    "\n",
    "# Append into lists in label-order\n",
    "s_dem_prps = so_urb[0] + so_gen[0] + so_ch[0] + so_ft[0] + so_edu[0]\n",
    "o_dem_prps = so_urb[1] + so_gen[1] + so_ch[1] + so_ft[1] + so_edu[1]\n",
    "\n",
    "# plotting params\n",
    "ind = np.arange(12) \n",
    "width = 0.35       \n",
    "\n",
    "comp_labs = ['Rural', # Col 3, Val 0\n",
    "             'Urban', # Col 3, Val 1\n",
    "             'Female', # Col 0, Val 0\n",
    "             'Male', # Col 0, Val 1\n",
    "             'No Children', # Col 6, Val 0\n",
    "             'Children', # Col 6, Val 1\n",
    "             'Non-FTE', # Col 5, Val 0\n",
    "             'FTE', # Col 5, Val 1\n",
    "             'Edu None', # Col 4, Val 0\n",
    "             'Edu Low', # Col 4, Val 1\n",
    "             'Edu Med', # Col 4, Val 2\n",
    "             'Edu High'] # Col 4, Val 3, Note: Excludes NA Ed level\n",
    "\n",
    "fig,ax = plt.subplots()\n",
    "p1 = ax.bar(ind, s_dem_prps, width, label='Support',color='lightgreen')\n",
    "p2 = ax.bar(ind, o_dem_prps, width, label='Oppose',color='lightsteelblue',\n",
    "             bottom=s_dem_prps)\n",
    "\n",
    "ax.set_title('Proportion of Supporters by Demographic Category', fontweight='bold')\n",
    "plt.xticks(ind, comp_labs,rotation=45)\n",
    "\n",
    "yvals = ax.get_yticks()\n",
    "ax.set_yticklabels(['{:3.0f}%'.format(y*100) for y in yvals])\n",
    "\n",
    "ax.legend(frameon=True, loc='center left', bbox_to_anchor=(1, 0.5))\n",
    "\n",
    "for i, v in enumerate(s_dem_prps):\n",
    "    ax.text(i-.5, v -.05, '{:3.0f}%'.format(s_dem_prps[i]*100), color='black', fontweight='bold')\n",
    "\n",
    "plt.show()"
   ]
  },
  {
   "cell_type": "code",
   "execution_count": 26,
   "metadata": {},
   "outputs": [
    {
     "data": {
      "text/plain": [
       "'Percent of Voters with \"None\" Education Level: 2.78%'"
      ]
     },
     "execution_count": 26,
     "metadata": {},
     "output_type": "execute_result"
    }
   ],
   "source": [
    "# Find percent of voters with Education Level = 'None':\n",
    "'Percent of Voters with \"None\" Education Level: {:3.2f}%'.format(len(np.where(X_dem_vt2[:,4]=='0')[0])/len(X_dem_vt2)*100)"
   ]
  },
  {
   "cell_type": "markdown",
   "metadata": {},
   "source": [
    "## 2. Aggregate Data - Using Classifier Scores to Select Impactful Features\n",
    "\n",
    "After attempts with PCA and K-means that were discarded for lack of meaningful results, we were able to identify features with the greatest impact on voter support or opposition through scikit-learn's SelectKBest function scoring. We chose the f_classif method because the variables are either categorical, or can easily be interpreted that way.\n",
    "\n",
    "Scikit-learn returns a list of scores and corresponding p_values for the top scoring `k` features. In each case, we ran the function for `k` equal to the number of all features and collected a ranked list of every feature by score for that had p-value > 0.05. Therefore, the list of features is significantly ordered by greatest impact to voter support or opposition.\n",
    "\n",
    "First, we can use this method to confirm our findings on the demographic data:"
   ]
  },
  {
   "cell_type": "code",
   "execution_count": 27,
   "metadata": {},
   "outputs": [
    {
     "data": {
      "text/plain": [
       "['fte', 'ed_lev', 'age', 'age_grp']"
      ]
     },
     "execution_count": 27,
     "metadata": {},
     "output_type": "execute_result"
    }
   ],
   "source": [
    "# Most Influential Demographic Factors on Voter Outcome (Non-voters excluded)\n",
    "# Recursive F_Classif classification\n",
    "# Ranked by feature impact with significance level <.05\n",
    "# Output is (Feature, p-value)\n",
    "kbest_dem = fs.SelectKBest(fs.f_classif,k=len(X_dem_vt2_lab))\n",
    "Z_dem_vt2 = kbest_dem.fit_transform(X_dem_vt2,Y_vt2)\n",
    "featscor_dem = kbest_dem.scores_\n",
    "[X_dem_vt2_lab[i] for i in featscor_dem.argsort()[::-1] if kbest_dem.pvalues_[i]<.05]"
   ]
  },
  {
   "cell_type": "markdown",
   "metadata": {},
   "source": [
    "Now we can apply the same method to find out which opinion statements are the strongest indicators of voter support or opposition:"
   ]
  },
  {
   "cell_type": "code",
   "execution_count": 30,
   "metadata": {},
   "outputs": [
    {
     "data": {
      "text/plain": [
       "[('SG', 'None of the above (Support)'),\n",
       " ('AD', 'It is against the principle of linking merit and reward'),\n",
       " ('SB', 'It creates more equality of opportunity'),\n",
       " ('SC', 'It encourages financial independence and self-responsibility'),\n",
       " ('SD', 'It increases solidarity, because it is funded by everyone'),\n",
       " ('SA', 'It reduces anxiety about financing basic needs'),\n",
       " ('AB', 'It might encourage people to stop working'),\n",
       " ('AA', 'It is impossible to finance'),\n",
       " ('SF', 'It increases appreciation for household work and volunteering'),\n",
       " ('AF', 'It increases dependence on the state'),\n",
       " ('AE',\n",
       "  'Only the people who need it most should get something from the state'),\n",
       " ('aware', 'Self-ranked awareness'),\n",
       " ('wc_eff_grp', 'Effects on Work Choice Grouped'),\n",
       " ('AG', 'None of the above (Against)'),\n",
       " ('wc_eff_cb', 'Effects on Work Choice'),\n",
       " ('AC',\n",
       "  'Foreigners might come to my country and take advantage of the benefit'),\n",
       " ('SE', 'It reduces bureaucracy and administrative expenses')]"
      ]
     },
     "execution_count": 30,
     "metadata": {},
     "output_type": "execute_result"
    }
   ],
   "source": [
    "# Most Influential Opinion Statements on Voter Outcome (Non-voters excluded)\n",
    "# Recursive F_Classif classification\n",
    "# Ranked by feature impact with significance level <.05\n",
    "# Output is (Feature, p-value)\n",
    "kbest_op = fs.SelectKBest(fs.f_classif,k=len(X_op_vt2_lab))\n",
    "Z_op_vt2 = kbest_op.fit_transform(X_op_vt2,Y_vt2)\n",
    "featscor_op = kbest_op.scores_\n",
    "[(X_op_vt2_lab[i],op_feat_map[X_op_vt2_lab[i]]) for i in featscor_op.argsort()[::-1] if kbest_op.pvalues_[i]<.05]"
   ]
  },
  {
   "cell_type": "markdown",
   "metadata": {},
   "source": [
    "What the above is really pointing out is that the early list entries are the most divisive in terms of voter support/opposal, and not necessarily indicating an 'ON' or 'OFF' value for the indicator. Therefore, it is not surprising that not agreeing with any supportive statements would be indicative of opposal. It is interesting however, that not agreeing with any opposal statements is so low in the ranking. It appears that even supportive voters would caveat to some negative aspects of basic income."
   ]
  },
  {
   "cell_type": "markdown",
   "metadata": {},
   "source": [
    "## 3. Grouping Similar Countries\n",
    "\n",
    "We can apply K-means on the set of country features to find groups of similarly-advantaged countries. With only 28 countries, we were limited to a small k. 4 seemed to be overfitting, whereas 2 or 3 were ideal. In this case, we have a pretty clear split with k=2. We can further inspect the featuer interaction for each country group below."
   ]
  },
  {
   "cell_type": "code",
   "execution_count": 70,
   "metadata": {},
   "outputs": [
    {
     "data": {
      "text/plain": [
       "{0: 17, 1: 11}"
      ]
     },
     "execution_count": 70,
     "metadata": {},
     "output_type": "execute_result"
    }
   ],
   "source": [
    "# Groupings of Countries by feature\n",
    "\n",
    "# Create a dataframe without Country name\n",
    "cd_km = []\n",
    "for country in wt_prp_supp.keys():\n",
    "    cd_km.append((wt_prp_supp[country],\n",
    "               sdi[country],\n",
    "               happy_score_nrml[country],\n",
    "               the[country]['ghes_per_the'],\n",
    "               the[country]['the_per_gdp'],\n",
    "               the[country]['the_per_cap'],\n",
    "               yer[country]))\n",
    "dtype_km = [('Pct_Supp_BI','f4'),('SDI','f4'),\n",
    "         ('Nrml_H_Score','f4'),('Pct_Govt_HE','f4'),\n",
    "         ('THE_GDP','f4'),('THE_Cap','f4'),('YER','f4')]\n",
    "a_km = np.array(cd_km, dtype=dtype_km)\n",
    "df_km = pd.DataFrame(a_km)\n",
    "\n",
    "# Apply a K-means test to categories similar countries\n",
    "np.random.seed(1111)\n",
    "nm = 2\n",
    "kmc = KMeans(nm)\n",
    "kmc.fit(df_km)\n",
    "kmc_pred = kmc.predict(df_km)\n",
    "g,c = np.unique(kmc_pred,return_counts=True)\n",
    "dict(zip(g,c))"
   ]
  },
  {
   "cell_type": "markdown",
   "metadata": {},
   "source": [
    "## 4. Pairwise Plotting of Country Index Values\n",
    "\n",
    "We can reference our country index data frame with seaborn options to compare how basic income support correlates with other country indices. And we can use our K-means mapping to set a hue.\n",
    "\n",
    "**Reference:** https://seaborn.pydata.org/tutorial/axis_grids.html"
   ]
  },
  {
   "cell_type": "code",
   "execution_count": 71,
   "metadata": {},
   "outputs": [
    {
     "data": {
      "text/plain": [
       "<seaborn.axisgrid.PairGrid at 0x7f7c3c9c7198>"
      ]
     },
     "execution_count": 71,
     "metadata": {},
     "output_type": "execute_result"
    },
    {
     "data": {
      "image/png": "[encoded data removed]",
      "text/plain": [
       "<matplotlib.figure.Figure at 0x7f7c3c9c7b00>"
      ]
     },
     "metadata": {},
     "output_type": "display_data"
    }
   ],
   "source": [
    "# Build data frame with k-means group mapped\n",
    "cd_kmap = []\n",
    "ind = 0\n",
    "for country in wt_prp_supp.keys():\n",
    "    cd_kmap.append((country,\n",
    "                    kmc_pred[ind],\n",
    "                    wt_prp_supp[country],\n",
    "                    sdi[country],\n",
    "                    happy_score_nrml[country],\n",
    "                    the[country]['ghes_per_the'],\n",
    "                    the[country]['the_per_gdp'],\n",
    "                    the[country]['the_per_cap'],\n",
    "                    yer[country]))\n",
    "    ind += 1\n",
    "dtype_kmap = [('Country',object),('KMap_Grp','i4'),('Pct_Supp_BI','f4'),('SDI','f4'),('Nrml_H_Score','f4'),('Pct_Govt_HE','f4'),('THE_GDP','f4'),('THE_Cap','f4'),('YER','f4')]\n",
    "a_kmap = np.array(cd_kmap, dtype=dtype_kmap)\n",
    "pd_kmap = pd.DataFrame(a_kmap)\n",
    "\n",
    "# Support, Happy, SDI, YER\n",
    "sns.pairplot(pd_kmap, \n",
    "             vars=[\"Pct_Supp_BI\",\"Nrml_H_Score\",\"SDI\",\"YER\"], \n",
    "             palette=\"Set2\", \n",
    "             diag_kind=\"kde\",\n",
    "             hue=\"KMap_Grp\")"
   ]
  },
  {
   "cell_type": "code",
   "execution_count": 72,
   "metadata": {},
   "outputs": [
    {
     "data": {
      "text/plain": [
       "<seaborn.axisgrid.PairGrid at 0x7f7c3bfa9c88>"
      ]
     },
     "execution_count": 72,
     "metadata": {},
     "output_type": "execute_result"
    },
    {
     "data": {
      "image/png": "[encoded data removed]",
      "text/plain": [
       "<matplotlib.figure.Figure at 0x7f7c3bfa9438>"
      ]
     },
     "metadata": {},
     "output_type": "display_data"
    }
   ],
   "source": [
    "# Support, Govt_THE, SDI, YER\n",
    "sns.pairplot(pd_kmap, \n",
    "             vars=[\"Pct_Supp_BI\",\"Pct_Govt_HE\",\"SDI\",\"YER\"], \n",
    "             palette=\"Set2\", \n",
    "             diag_kind=\"kde\",\n",
    "             hue=\"KMap_Grp\")"
   ]
  },
  {
   "cell_type": "code",
   "execution_count": 73,
   "metadata": {},
   "outputs": [
    {
     "data": {
      "text/plain": [
       "<seaborn.axisgrid.PairGrid at 0x7f7c3aa86c18>"
      ]
     },
     "execution_count": 73,
     "metadata": {},
     "output_type": "execute_result"
    },
    {
     "data": {
      "image/png": "[encoded data removed]",
      "text/plain": [
       "<matplotlib.figure.Figure at 0x7f7c3aa86160>"
      ]
     },
     "metadata": {},
     "output_type": "display_data"
    }
   ],
   "source": [
    "# Support, Govt_THE, THE_GDP, THE_Cap\n",
    "sns.pairplot(pd_kmap, \n",
    "             vars=[\"Pct_Supp_BI\",\"Pct_Govt_HE\",\"THE_GDP\",\"THE_Cap\"], \n",
    "             palette=\"Set2\", \n",
    "             diag_kind=\"kde\",\n",
    "             hue=\"KMap_Grp\")"
   ]
  },
  {
   "cell_type": "markdown",
   "metadata": {},
   "source": [
    "Working with these three different pairplot views, we see that while SDI, YER, Government coverage of health cost, and happiness rating all move positively together, there is an apparent inverse correlation between these measures and support for basic income. \n",
    "\n",
    "Furthermore, we observe that the scatterplots and histogram modalities show good separation of our K-means categories."
   ]
  },
  {
   "cell_type": "markdown",
   "metadata": {},
   "source": [
    "## Discussion/Implications\n",
    "\n",
    "It is interesting to observe that happier countries with broader social services programs do not support basic income as highly as those that are suffering under relative economic, health and happiness factors. It seems that those in worse situations support basic income as a potential source of relief, while more comfortable people may have more apprehensions. \n",
    "\n",
    "I would like to see some future research include time series analysis to observe trends once Dalia releases data from additional years. I would also like to see the opinion motivations tied back to the country index features.\n",
    "\n",
    "## Limitations\n",
    "\n",
    "Several data limitations were listed in the relevant sections. In particular, the core survey dataset contained only ages 14-65, and only binary genders. Additionally, we had to drop ages 14 and 65 to fit to the GHDx data. A final major issue with combining the datasets is that the most current years were not consistent.\n",
    "\n",
    "I decided against using a dataset that I initially planned to because it was too sparsely filled and poorly documented. The Dalia-calculated weights seem to be corrupt on the Kaggle website. Dalia also hosts another version but the license was more restrictive so I couldn't use it.\n",
    "\n",
    "## Conclusion\n",
    "\n",
    "Restating our hypothesis,\n",
    "- We found data to support the hypothesis that younger people will view basic income more favorably.\n",
    "- We found evidence that urban-dwellers will viewed basic income only slightly more favorablythan rural-dwellers.\n",
    "- We did not find significant evidence that people with children in their household view basic income more favorably than those without.\n",
    "- Contrary to our hypothesis, we found that more health-burdened countries have a more favorable view overall of basic income. \n",
    "- Contrary to our hypothesis, we found that happier countries have a less favorable view overall of basic income. \n",
    "- Contrary to our hypothesis, we found that economically burdened countries have a more positive view overall of basic income. \n",
    "\n",
    "Realizing the potential motivations for these attitudes is at the heart of the human-centeredness of this quest for understanding. Findings will impact policy-makers and communities alike as our economy and social programs continue to evolve. On a personal level, this project has illicited a fair amount of empathy for those that hold different views from myself.\n",
    "\n",
    "## References\n",
    "\n",
    "- http://www.businessinsider.com/elon-musk-universal-basic-income-2017-2\n",
    "\n",
    "- https://en.wikipedia.org/wiki/European_social_model\n",
    "\n",
    "- https://seaborn.pydata.org/tutorial/axis_grids.html\n"
   ]
  },
  {
   "cell_type": "code",
   "execution_count": null,
   "metadata": {},
   "outputs": [],
   "source": []
  },
  {
   "cell_type": "code",
   "execution_count": null,
   "metadata": {},
   "outputs": [],
   "source": []
  },
  {
   "cell_type": "code",
   "execution_count": null,
   "metadata": {},
   "outputs": [],
   "source": [
    "\n"
   ]
  },
  {
   "cell_type": "code",
   "execution_count": null,
   "metadata": {},
   "outputs": [],
   "source": []
  },
  {
   "cell_type": "code",
   "execution_count": null,
   "metadata": {},
   "outputs": [],
   "source": []
  },
  {
   "cell_type": "code",
   "execution_count": null,
   "metadata": {},
   "outputs": [],
   "source": []
  },
  {
   "cell_type": "code",
   "execution_count": null,
   "metadata": {},
   "outputs": [],
   "source": []
  },
  {
   "cell_type": "code",
   "execution_count": null,
   "metadata": {},
   "outputs": [],
   "source": []
  },
  {
   "cell_type": "code",
   "execution_count": null,
   "metadata": {},
   "outputs": [],
   "source": []
  },
  {
   "cell_type": "code",
   "execution_count": null,
   "metadata": {},
   "outputs": [],
   "source": []
  },
  {
   "cell_type": "code",
   "execution_count": null,
   "metadata": {},
   "outputs": [],
   "source": []
  },
  {
   "cell_type": "code",
   "execution_count": null,
   "metadata": {},
   "outputs": [],
   "source": []
  },
  {
   "cell_type": "code",
   "execution_count": null,
   "metadata": {},
   "outputs": [],
   "source": []
  },
  {
   "cell_type": "code",
   "execution_count": null,
   "metadata": {},
   "outputs": [],
   "source": []
  },
  {
   "cell_type": "code",
   "execution_count": null,
   "metadata": {},
   "outputs": [],
   "source": []
  },
  {
   "cell_type": "code",
   "execution_count": null,
   "metadata": {},
   "outputs": [],
   "source": []
  },
  {
   "cell_type": "code",
   "execution_count": null,
   "metadata": {},
   "outputs": [],
   "source": []
  },
  {
   "cell_type": "code",
   "execution_count": null,
   "metadata": {},
   "outputs": [],
   "source": []
  },
  {
   "cell_type": "code",
   "execution_count": null,
   "metadata": {},
   "outputs": [],
   "source": []
  },
  {
   "cell_type": "code",
   "execution_count": null,
   "metadata": {},
   "outputs": [],
   "source": []
  },
  {
   "cell_type": "code",
   "execution_count": null,
   "metadata": {},
   "outputs": [],
   "source": []
  },
  {
   "cell_type": "code",
   "execution_count": null,
   "metadata": {},
   "outputs": [],
   "source": []
  },
  {
   "cell_type": "code",
   "execution_count": null,
   "metadata": {},
   "outputs": [],
   "source": []
  },
  {
   "cell_type": "code",
   "execution_count": null,
   "metadata": {},
   "outputs": [],
   "source": []
  },
  {
   "cell_type": "code",
   "execution_count": null,
   "metadata": {},
   "outputs": [],
   "source": []
  },
  {
   "cell_type": "code",
   "execution_count": null,
   "metadata": {},
   "outputs": [],
   "source": []
  },
  {
   "cell_type": "code",
   "execution_count": null,
   "metadata": {},
   "outputs": [],
   "source": []
  },
  {
   "cell_type": "code",
   "execution_count": null,
   "metadata": {},
   "outputs": [],
   "source": []
  },
  {
   "cell_type": "code",
   "execution_count": null,
   "metadata": {},
   "outputs": [],
   "source": []
  },
  {
   "cell_type": "code",
   "execution_count": null,
   "metadata": {},
   "outputs": [],
   "source": []
  },
  {
   "cell_type": "code",
   "execution_count": null,
   "metadata": {},
   "outputs": [],
   "source": []
  },
  {
   "cell_type": "code",
   "execution_count": null,
   "metadata": {},
   "outputs": [],
   "source": []
  },
  {
   "cell_type": "code",
   "execution_count": null,
   "metadata": {},
   "outputs": [],
   "source": []
  },
  {
   "cell_type": "code",
   "execution_count": null,
   "metadata": {},
   "outputs": [],
   "source": []
  },
  {
   "cell_type": "code",
   "execution_count": null,
   "metadata": {},
   "outputs": [],
   "source": []
  },
  {
   "cell_type": "code",
   "execution_count": null,
   "metadata": {},
   "outputs": [],
   "source": []
  },
  {
   "cell_type": "code",
   "execution_count": null,
   "metadata": {},
   "outputs": [],
   "source": []
  },
  {
   "cell_type": "code",
   "execution_count": null,
   "metadata": {},
   "outputs": [],
   "source": []
  },
  {
   "cell_type": "code",
   "execution_count": null,
   "metadata": {},
   "outputs": [],
   "source": []
  },
  {
   "cell_type": "code",
   "execution_count": null,
   "metadata": {},
   "outputs": [],
   "source": []
  },
  {
   "cell_type": "code",
   "execution_count": null,
   "metadata": {},
   "outputs": [],
   "source": []
  },
  {
   "cell_type": "code",
   "execution_count": null,
   "metadata": {},
   "outputs": [],
   "source": []
  },
  {
   "cell_type": "code",
   "execution_count": null,
   "metadata": {},
   "outputs": [],
   "source": []
  },
  {
   "cell_type": "code",
   "execution_count": null,
   "metadata": {},
   "outputs": [],
   "source": []
  },
  {
   "cell_type": "code",
   "execution_count": null,
   "metadata": {},
   "outputs": [],
   "source": []
  },
  {
   "cell_type": "code",
   "execution_count": null,
   "metadata": {},
   "outputs": [],
   "source": []
  },
  {
   "cell_type": "code",
   "execution_count": null,
   "metadata": {},
   "outputs": [],
   "source": []
  },
  {
   "cell_type": "code",
   "execution_count": null,
   "metadata": {},
   "outputs": [],
   "source": []
  },
  {
   "cell_type": "code",
   "execution_count": null,
   "metadata": {},
   "outputs": [],
   "source": []
  },
  {
   "cell_type": "code",
   "execution_count": null,
   "metadata": {},
   "outputs": [],
   "source": []
  },
  {
   "cell_type": "code",
   "execution_count": null,
   "metadata": {},
   "outputs": [],
   "source": []
  },
  {
   "cell_type": "code",
   "execution_count": null,
   "metadata": {},
   "outputs": [],
   "source": []
  },
  {
   "cell_type": "code",
   "execution_count": null,
   "metadata": {},
   "outputs": [],
   "source": []
  },
  {
   "cell_type": "code",
   "execution_count": null,
   "metadata": {},
   "outputs": [],
   "source": []
  },
  {
   "cell_type": "code",
   "execution_count": null,
   "metadata": {},
   "outputs": [],
   "source": []
  },
  {
   "cell_type": "code",
   "execution_count": null,
   "metadata": {},
   "outputs": [],
   "source": []
  },
  {
   "cell_type": "code",
   "execution_count": null,
   "metadata": {},
   "outputs": [],
   "source": []
  },
  {
   "cell_type": "code",
   "execution_count": null,
   "metadata": {},
   "outputs": [],
   "source": []
  },
  {
   "cell_type": "code",
   "execution_count": null,
   "metadata": {},
   "outputs": [],
   "source": []
  },
  {
   "cell_type": "code",
   "execution_count": null,
   "metadata": {},
   "outputs": [],
   "source": []
  },
  {
   "cell_type": "code",
   "execution_count": null,
   "metadata": {},
   "outputs": [],
   "source": []
  },
  {
   "cell_type": "code",
   "execution_count": null,
   "metadata": {},
   "outputs": [],
   "source": []
  },
  {
   "cell_type": "code",
   "execution_count": null,
   "metadata": {},
   "outputs": [],
   "source": []
  },
  {
   "cell_type": "code",
   "execution_count": null,
   "metadata": {},
   "outputs": [],
   "source": []
  },
  {
   "cell_type": "code",
   "execution_count": null,
   "metadata": {},
   "outputs": [],
   "source": []
  },
  {
   "cell_type": "code",
   "execution_count": null,
   "metadata": {},
   "outputs": [],
   "source": []
  },
  {
   "cell_type": "code",
   "execution_count": null,
   "metadata": {},
   "outputs": [],
   "source": []
  },
  {
   "cell_type": "code",
   "execution_count": null,
   "metadata": {},
   "outputs": [],
   "source": []
  },
  {
   "cell_type": "code",
   "execution_count": null,
   "metadata": {},
   "outputs": [],
   "source": []
  }
 ],
 "metadata": {
  "kernelspec": {
   "display_name": "Python 3",
   "language": "python",
   "name": "python3"
  },
  "language_info": {
   "codemirror_mode": {
    "name": "ipython",
    "version": 3
   },
   "file_extension": ".py",
   "mimetype": "text/x-python",
   "name": "python",
   "nbconvert_exporter": "python",
   "pygments_lexer": "ipython3",
   "version": "3.6.2"
  }
 },
 "nbformat": 4,
 "nbformat_minor": 2
}
